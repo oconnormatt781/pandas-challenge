{
 "cells": [
  {
   "cell_type": "markdown",
   "metadata": {},
   "source": [
    "### Heroes Of Pymoli Data Analysis\n",
    "* Of the 1163 active players, the vast majority are male (84%). There also exists, a smaller, but notable proportion of female players (14%).\n",
    "\n",
    "* Our peak age demographic falls between 20-24 (44.8%) with secondary groups falling between 15-19 (18.60%) and 25-29 (13.4%).  \n",
    "-----"
   ]
  },
  {
   "cell_type": "markdown",
   "metadata": {},
   "source": [
    "### Note\n",
    "* Instructions have been included for each segment. You do not have to follow them exactly, but they are included to help you think through the steps."
   ]
  },
  {
   "cell_type": "code",
   "execution_count": 121,
   "metadata": {},
   "outputs": [],
   "source": [
    "# Dependencies and Setup\n",
    "import pandas as pd\n",
    "import os\n",
    "import csv\n",
    "import numpy as np\n",
    "\n",
    "# File to Load (Remember to Change These)\n",
    "file_to_load = \"purchase_data.csv\"\n",
    "\n",
    "# Read Purchasing File and store into Pandas data frame\n",
    "purchase_data = pd.read_csv(file_to_load)\n",
    "\n",
    "df = pd.read_csv(\"purchase_data.csv\", encoding=\"ISO-8859-1\")"
   ]
  },
  {
   "cell_type": "markdown",
   "metadata": {},
   "source": [
    "## Player Count"
   ]
  },
  {
   "cell_type": "code",
   "execution_count": 122,
   "metadata": {},
   "outputs": [
    {
     "output_type": "execute_result",
     "data": {
      "text/plain": "780"
     },
     "metadata": {},
     "execution_count": 122
    }
   ],
   "source": [
    "# Display the total number of players\n",
    "df['Purchase ID'].count()"
   ]
  },
  {
   "cell_type": "markdown",
   "metadata": {},
   "source": [
    "## Purchasing Analysis (Total)"
   ]
  },
  {
   "cell_type": "markdown",
   "metadata": {},
   "source": [
    "* Run basic calculations to obtain number of unique items, average price, etc.\n",
    "\n",
    "\n",
    "* Create a summary data frame to hold the results\n",
    "\n",
    "\n",
    "* Optional: give the displayed data cleaner formatting\n",
    "\n",
    "\n",
    "* Display the summary data frame\n"
   ]
  },
  {
   "cell_type": "code",
   "execution_count": 123,
   "metadata": {
    "scrolled": true
   },
   "outputs": [
    {
     "output_type": "execute_result",
     "data": {
      "text/plain": "        Purchase ID         SN         Age Gender     Item ID     Item Name  \\\ncount    780.000000        780  780.000000    780  780.000000           780   \nunique          NaN        576         NaN      3         NaN           179   \ntop             NaN  Lisosia93         NaN   Male         NaN  Final Critic   \nfreq            NaN          5         NaN    652         NaN            13   \nmean     389.500000        NaN   22.714103    NaN   91.755128           NaN   \nstd      225.310896        NaN    6.659444    NaN   52.697702           NaN   \nmin        0.000000        NaN    7.000000    NaN    0.000000           NaN   \n25%      194.750000        NaN   20.000000    NaN   47.750000           NaN   \n50%      389.500000        NaN   22.000000    NaN   92.000000           NaN   \n75%      584.250000        NaN   25.000000    NaN  138.000000           NaN   \nmax      779.000000        NaN   45.000000    NaN  183.000000           NaN   \n\n             Price  \ncount   780.000000  \nunique         NaN  \ntop            NaN  \nfreq           NaN  \nmean      3.050987  \nstd       1.169549  \nmin       1.000000  \n25%       1.980000  \n50%       3.150000  \n75%       4.080000  \nmax       4.990000  ",
      "text/html": "<div>\n<style scoped>\n    .dataframe tbody tr th:only-of-type {\n        vertical-align: middle;\n    }\n\n    .dataframe tbody tr th {\n        vertical-align: top;\n    }\n\n    .dataframe thead th {\n        text-align: right;\n    }\n</style>\n<table border=\"1\" class=\"dataframe\">\n  <thead>\n    <tr style=\"text-align: right;\">\n      <th></th>\n      <th>Purchase ID</th>\n      <th>SN</th>\n      <th>Age</th>\n      <th>Gender</th>\n      <th>Item ID</th>\n      <th>Item Name</th>\n      <th>Price</th>\n    </tr>\n  </thead>\n  <tbody>\n    <tr>\n      <td>count</td>\n      <td>780.000000</td>\n      <td>780</td>\n      <td>780.000000</td>\n      <td>780</td>\n      <td>780.000000</td>\n      <td>780</td>\n      <td>780.000000</td>\n    </tr>\n    <tr>\n      <td>unique</td>\n      <td>NaN</td>\n      <td>576</td>\n      <td>NaN</td>\n      <td>3</td>\n      <td>NaN</td>\n      <td>179</td>\n      <td>NaN</td>\n    </tr>\n    <tr>\n      <td>top</td>\n      <td>NaN</td>\n      <td>Lisosia93</td>\n      <td>NaN</td>\n      <td>Male</td>\n      <td>NaN</td>\n      <td>Final Critic</td>\n      <td>NaN</td>\n    </tr>\n    <tr>\n      <td>freq</td>\n      <td>NaN</td>\n      <td>5</td>\n      <td>NaN</td>\n      <td>652</td>\n      <td>NaN</td>\n      <td>13</td>\n      <td>NaN</td>\n    </tr>\n    <tr>\n      <td>mean</td>\n      <td>389.500000</td>\n      <td>NaN</td>\n      <td>22.714103</td>\n      <td>NaN</td>\n      <td>91.755128</td>\n      <td>NaN</td>\n      <td>3.050987</td>\n    </tr>\n    <tr>\n      <td>std</td>\n      <td>225.310896</td>\n      <td>NaN</td>\n      <td>6.659444</td>\n      <td>NaN</td>\n      <td>52.697702</td>\n      <td>NaN</td>\n      <td>1.169549</td>\n    </tr>\n    <tr>\n      <td>min</td>\n      <td>0.000000</td>\n      <td>NaN</td>\n      <td>7.000000</td>\n      <td>NaN</td>\n      <td>0.000000</td>\n      <td>NaN</td>\n      <td>1.000000</td>\n    </tr>\n    <tr>\n      <td>25%</td>\n      <td>194.750000</td>\n      <td>NaN</td>\n      <td>20.000000</td>\n      <td>NaN</td>\n      <td>47.750000</td>\n      <td>NaN</td>\n      <td>1.980000</td>\n    </tr>\n    <tr>\n      <td>50%</td>\n      <td>389.500000</td>\n      <td>NaN</td>\n      <td>22.000000</td>\n      <td>NaN</td>\n      <td>92.000000</td>\n      <td>NaN</td>\n      <td>3.150000</td>\n    </tr>\n    <tr>\n      <td>75%</td>\n      <td>584.250000</td>\n      <td>NaN</td>\n      <td>25.000000</td>\n      <td>NaN</td>\n      <td>138.000000</td>\n      <td>NaN</td>\n      <td>4.080000</td>\n    </tr>\n    <tr>\n      <td>max</td>\n      <td>779.000000</td>\n      <td>NaN</td>\n      <td>45.000000</td>\n      <td>NaN</td>\n      <td>183.000000</td>\n      <td>NaN</td>\n      <td>4.990000</td>\n    </tr>\n  </tbody>\n</table>\n</div>"
     },
     "metadata": {},
     "execution_count": 123
    }
   ],
   "source": [
    "df.describe(include='all')"
   ]
  },
  {
   "cell_type": "markdown",
   "metadata": {},
   "source": [
    "## Gender Demographics"
   ]
  },
  {
   "cell_type": "markdown",
   "metadata": {},
   "source": [
    "* Percentage and Count of Male Players\n",
    "\n",
    "\n",
    "* Percentage and Count of Female Players\n",
    "\n",
    "\n",
    "* Percentage and Count of Other / Non-Disclosed\n",
    "\n",
    "\n"
   ]
  },
  {
   "cell_type": "code",
   "execution_count": 131,
   "metadata": {},
   "outputs": [
    {
     "output_type": "execute_result",
     "data": {
      "text/plain": "                       Count  Percentage\nMale                     652    0.835897\nFemale                   113    0.144872\nOther / Non-Disclosed     15    0.019231",
      "text/html": "<div>\n<style scoped>\n    .dataframe tbody tr th:only-of-type {\n        vertical-align: middle;\n    }\n\n    .dataframe tbody tr th {\n        vertical-align: top;\n    }\n\n    .dataframe thead th {\n        text-align: right;\n    }\n</style>\n<table border=\"1\" class=\"dataframe\">\n  <thead>\n    <tr style=\"text-align: right;\">\n      <th></th>\n      <th>Count</th>\n      <th>Percentage</th>\n    </tr>\n  </thead>\n  <tbody>\n    <tr>\n      <td>Male</td>\n      <td>652</td>\n      <td>0.835897</td>\n    </tr>\n    <tr>\n      <td>Female</td>\n      <td>113</td>\n      <td>0.144872</td>\n    </tr>\n    <tr>\n      <td>Other / Non-Disclosed</td>\n      <td>15</td>\n      <td>0.019231</td>\n    </tr>\n  </tbody>\n</table>\n</div>"
     },
     "metadata": {},
     "execution_count": 131
    }
   ],
   "source": [
    "counts = df['Gender'].value_counts()\n",
    "percent = df['Gender'].value_counts(normalize=True)\n",
    "df.groupby('Gender').count()\n",
    "pd.DataFrame({'Count': counts, 'Percentage': percent})"
   ]
  },
  {
   "cell_type": "markdown",
   "metadata": {},
   "source": [
    "\n",
    "## Purchasing Analysis (Gender)"
   ]
  },
  {
   "cell_type": "markdown",
   "metadata": {},
   "source": [
    "* Run basic calculations to obtain purchase count, avg. purchase price, avg. purchase total per person etc. by gender\n",
    "\n",
    "\n",
    "\n",
    "\n",
    "* Create a summary data frame to hold the results\n",
    "\n",
    "\n",
    "* Optional: give the displayed data cleaner formatting\n",
    "\n",
    "\n",
    "* Display the summary data frame"
   ]
  },
  {
   "cell_type": "code",
   "execution_count": 125,
   "metadata": {},
   "outputs": [
    {
     "output_type": "execute_result",
     "data": {
      "text/plain": "                      Purchase ID                                        \\\n                            count        mean         std   min     25%   \nGender                                                                    \nFemale                      113.0  379.380531  211.605484  15.0  199.00   \nMale                        652.0  392.516871  227.516414   0.0  193.75   \nOther / Non-Disclosed        15.0  334.600000  234.524991   9.0  169.50   \n\n                                               Age             ... Item ID  \\\n                         50%     75%    max  count       mean  ...     75%   \nGender                                                         ...           \nFemale                 392.0  558.00  775.0  113.0  21.345133  ...   129.0   \nMale                   390.5  592.25  779.0  652.0  22.917178  ...   139.0   \nOther / Non-Disclosed  291.0  516.50  747.0   15.0  24.200000  ...   141.0   \n\n                              Price                                          \\\n                         max  count      mean       std   min     25%   50%   \nGender                                                                        \nFemale                 183.0  113.0  3.203009  1.158194  1.00  2.2800  3.45   \nMale                   183.0  652.0  3.017853  1.175625  1.00  1.9625  3.09   \nOther / Non-Disclosed  163.0   15.0  3.346000  0.883813  1.33  3.1000  3.45   \n\n                                    \n                         75%   max  \nGender                              \nFemale                 4.230  4.90  \nMale                   4.080  4.99  \nOther / Non-Disclosed  3.875  4.75  \n\n[3 rows x 32 columns]",
      "text/html": "<div>\n<style scoped>\n    .dataframe tbody tr th:only-of-type {\n        vertical-align: middle;\n    }\n\n    .dataframe tbody tr th {\n        vertical-align: top;\n    }\n\n    .dataframe thead tr th {\n        text-align: left;\n    }\n\n    .dataframe thead tr:last-of-type th {\n        text-align: right;\n    }\n</style>\n<table border=\"1\" class=\"dataframe\">\n  <thead>\n    <tr>\n      <th></th>\n      <th colspan=\"8\" halign=\"left\">Purchase ID</th>\n      <th colspan=\"2\" halign=\"left\">Age</th>\n      <th>...</th>\n      <th colspan=\"2\" halign=\"left\">Item ID</th>\n      <th colspan=\"8\" halign=\"left\">Price</th>\n    </tr>\n    <tr>\n      <th></th>\n      <th>count</th>\n      <th>mean</th>\n      <th>std</th>\n      <th>min</th>\n      <th>25%</th>\n      <th>50%</th>\n      <th>75%</th>\n      <th>max</th>\n      <th>count</th>\n      <th>mean</th>\n      <th>...</th>\n      <th>75%</th>\n      <th>max</th>\n      <th>count</th>\n      <th>mean</th>\n      <th>std</th>\n      <th>min</th>\n      <th>25%</th>\n      <th>50%</th>\n      <th>75%</th>\n      <th>max</th>\n    </tr>\n    <tr>\n      <th>Gender</th>\n      <th></th>\n      <th></th>\n      <th></th>\n      <th></th>\n      <th></th>\n      <th></th>\n      <th></th>\n      <th></th>\n      <th></th>\n      <th></th>\n      <th></th>\n      <th></th>\n      <th></th>\n      <th></th>\n      <th></th>\n      <th></th>\n      <th></th>\n      <th></th>\n      <th></th>\n      <th></th>\n      <th></th>\n    </tr>\n  </thead>\n  <tbody>\n    <tr>\n      <td>Female</td>\n      <td>113.0</td>\n      <td>379.380531</td>\n      <td>211.605484</td>\n      <td>15.0</td>\n      <td>199.00</td>\n      <td>392.0</td>\n      <td>558.00</td>\n      <td>775.0</td>\n      <td>113.0</td>\n      <td>21.345133</td>\n      <td>...</td>\n      <td>129.0</td>\n      <td>183.0</td>\n      <td>113.0</td>\n      <td>3.203009</td>\n      <td>1.158194</td>\n      <td>1.00</td>\n      <td>2.2800</td>\n      <td>3.45</td>\n      <td>4.230</td>\n      <td>4.90</td>\n    </tr>\n    <tr>\n      <td>Male</td>\n      <td>652.0</td>\n      <td>392.516871</td>\n      <td>227.516414</td>\n      <td>0.0</td>\n      <td>193.75</td>\n      <td>390.5</td>\n      <td>592.25</td>\n      <td>779.0</td>\n      <td>652.0</td>\n      <td>22.917178</td>\n      <td>...</td>\n      <td>139.0</td>\n      <td>183.0</td>\n      <td>652.0</td>\n      <td>3.017853</td>\n      <td>1.175625</td>\n      <td>1.00</td>\n      <td>1.9625</td>\n      <td>3.09</td>\n      <td>4.080</td>\n      <td>4.99</td>\n    </tr>\n    <tr>\n      <td>Other / Non-Disclosed</td>\n      <td>15.0</td>\n      <td>334.600000</td>\n      <td>234.524991</td>\n      <td>9.0</td>\n      <td>169.50</td>\n      <td>291.0</td>\n      <td>516.50</td>\n      <td>747.0</td>\n      <td>15.0</td>\n      <td>24.200000</td>\n      <td>...</td>\n      <td>141.0</td>\n      <td>163.0</td>\n      <td>15.0</td>\n      <td>3.346000</td>\n      <td>0.883813</td>\n      <td>1.33</td>\n      <td>3.1000</td>\n      <td>3.45</td>\n      <td>3.875</td>\n      <td>4.75</td>\n    </tr>\n  </tbody>\n</table>\n<p>3 rows × 32 columns</p>\n</div>"
     },
     "metadata": {},
     "execution_count": 125
    }
   ],
   "source": [
    "df.groupby('Gender').describe()"
   ]
  },
  {
   "cell_type": "markdown",
   "metadata": {},
   "source": [
    "## Age Demographics"
   ]
  },
  {
   "cell_type": "markdown",
   "metadata": {},
   "source": [
    "* Establish bins for ages\n",
    "\n",
    "\n",
    "* Categorize the existing players using the age bins. Hint: use pd.cut()\n",
    "\n",
    "\n",
    "* Calculate the numbers and percentages by age group\n",
    "\n",
    "\n",
    "* Create a summary data frame to hold the results\n",
    "\n",
    "\n",
    "* Optional: round the percentage column to two decimal points\n",
    "\n",
    "\n",
    "* Display Age Demographics Table\n"
   ]
  },
  {
   "cell_type": "code",
   "execution_count": 126,
   "metadata": {},
   "outputs": [
    {
     "output_type": "execute_result",
     "data": {
      "text/plain": "   Purchase ID             SN  Age Gender  Item ID  \\\n0            0        Lisim78   20   Male      108   \n1            1    Lisovynya38   40   Male      143   \n2            2     Ithergue48   24   Male       92   \n3            3  Chamassasya86   24   Male      100   \n4            4      Iskosia90   23   Male      131   \n\n                                   Item Name  Price Age Group  \n0  Extraction, Quickblade Of Trembling Hands   3.53     20-24  \n1                          Frenzied Scimitar   1.56       40+  \n2                               Final Critic   4.88     25-29  \n3                                Blindscythe   3.27     25-29  \n4                                       Fury   1.44     25-29  ",
      "text/html": "<div>\n<style scoped>\n    .dataframe tbody tr th:only-of-type {\n        vertical-align: middle;\n    }\n\n    .dataframe tbody tr th {\n        vertical-align: top;\n    }\n\n    .dataframe thead th {\n        text-align: right;\n    }\n</style>\n<table border=\"1\" class=\"dataframe\">\n  <thead>\n    <tr style=\"text-align: right;\">\n      <th></th>\n      <th>Purchase ID</th>\n      <th>SN</th>\n      <th>Age</th>\n      <th>Gender</th>\n      <th>Item ID</th>\n      <th>Item Name</th>\n      <th>Price</th>\n      <th>Age Group</th>\n    </tr>\n  </thead>\n  <tbody>\n    <tr>\n      <td>0</td>\n      <td>0</td>\n      <td>Lisim78</td>\n      <td>20</td>\n      <td>Male</td>\n      <td>108</td>\n      <td>Extraction, Quickblade Of Trembling Hands</td>\n      <td>3.53</td>\n      <td>20-24</td>\n    </tr>\n    <tr>\n      <td>1</td>\n      <td>1</td>\n      <td>Lisovynya38</td>\n      <td>40</td>\n      <td>Male</td>\n      <td>143</td>\n      <td>Frenzied Scimitar</td>\n      <td>1.56</td>\n      <td>40+</td>\n    </tr>\n    <tr>\n      <td>2</td>\n      <td>2</td>\n      <td>Ithergue48</td>\n      <td>24</td>\n      <td>Male</td>\n      <td>92</td>\n      <td>Final Critic</td>\n      <td>4.88</td>\n      <td>25-29</td>\n    </tr>\n    <tr>\n      <td>3</td>\n      <td>3</td>\n      <td>Chamassasya86</td>\n      <td>24</td>\n      <td>Male</td>\n      <td>100</td>\n      <td>Blindscythe</td>\n      <td>3.27</td>\n      <td>25-29</td>\n    </tr>\n    <tr>\n      <td>4</td>\n      <td>4</td>\n      <td>Iskosia90</td>\n      <td>23</td>\n      <td>Male</td>\n      <td>131</td>\n      <td>Fury</td>\n      <td>1.44</td>\n      <td>25-29</td>\n    </tr>\n  </tbody>\n</table>\n</div>"
     },
     "metadata": {},
     "execution_count": 126
    }
   ],
   "source": [
    "# Create bins in which to place values based on age\n",
    "bins = [0, 10, 15, 20, 25, 30, 35, 40]\n",
    "\n",
    "# Create labels for these bins\n",
    "group_labels = [\"10-14\", \"15-19\", \"20-24\", \"25-29\", \"30-34\", \"35-39\", \"40+\"]\n",
    "\n",
    "#Slice data\n",
    "pd.cut(df[\"Age\"], bins, labels=group_labels).head()\n",
    "\n",
    "# Place the data series into a new column\n",
    "df[\"Age Group\"] = pd.cut(df[\"Age\"], bins, labels=group_labels)\n",
    "df.head()"
   ]
  },
  {
   "cell_type": "markdown",
   "metadata": {},
   "source": [
    "## Purchasing Analysis (Age)"
   ]
  },
  {
   "cell_type": "markdown",
   "metadata": {},
   "source": [
    "* Bin the purchase_data data frame by age\n",
    "\n",
    "\n",
    "* Run basic calculations to obtain purchase count, avg. purchase price, avg. purchase total per person etc. in the table below\n",
    "\n",
    "\n",
    "* Create a summary data frame to hold the results\n",
    "\n",
    "\n",
    "* Optional: give the displayed data cleaner formatting\n",
    "\n",
    "\n",
    "* Display the summary data frame"
   ]
  },
  {
   "cell_type": "code",
   "execution_count": 127,
   "metadata": {},
   "outputs": [
    {
     "output_type": "stream",
     "name": "stdout",
     "text": "Age Group\n10-14     32\n15-19     54\n20-24    200\n25-29    325\n30-34     77\n35-39     52\n40+       33\nName: Age, dtype: int64\n"
    },
    {
     "output_type": "execute_result",
     "data": {
      "text/plain": "(            Price\n Age Group        \n 10-14      108.96\n 15-19      156.60\n 20-24      621.56\n 25-29      981.64\n 30-34      221.42\n 35-39      155.71\n 40+        112.35,            Purchase ID\n Age Group             \n 10-14               32\n 15-19               54\n 20-24              200\n 25-29              325\n 30-34               77\n 35-39               52\n 40+                 33,               Price\n Age Group          \n 10-14      3.405000\n 15-19      2.900000\n 20-24      3.107800\n 25-29      3.020431\n 30-34      2.875584\n 35-39      2.994423\n 40+        3.404545)"
     },
     "metadata": {},
     "execution_count": 127
    }
   ],
   "source": [
    "# Create a GroupBy object based upon \"View Group\"\n",
    "age_group = df.groupby(\"Age Group\")\n",
    "\n",
    "# Find how many rows fall into each bin\n",
    "print(age_group[\"Age\"].count())\n",
    "\n",
    "# Get the average of each column within the GroupBy object\n",
    "age_group[[\"Price\"]].sum(),age_group[[\"Purchase ID\"]].count(),age_group[[\"Price\"]].mean()"
   ]
  },
  {
   "cell_type": "markdown",
   "metadata": {},
   "source": [
    "## Top Spenders"
   ]
  },
  {
   "cell_type": "markdown",
   "metadata": {},
   "source": [
    "* Run basic calculations to obtain the results in the table below\n",
    "\n",
    "\n",
    "* Create a summary data frame to hold the results\n",
    "\n",
    "\n",
    "* Sort the total purchase value column in descending order\n",
    "\n",
    "\n",
    "* Optional: give the displayed data cleaner formatting\n",
    "\n",
    "\n",
    "* Display a preview of the summary data frame\n",
    "\n"
   ]
  },
  {
   "cell_type": "code",
   "execution_count": 128,
   "metadata": {},
   "outputs": [
    {
     "output_type": "execute_result",
     "data": {
      "text/plain": "     Purchase ID             SN  Age  Gender  Item ID  \\\n554          554       Dyally87   22    Male       63   \n189          189       Hiasri33   23    Male       63   \n110          110        Ririp86   25    Male      139   \n246          246     Lirtilsa71   24    Male      139   \n493          493  Chanirrasta87   14    Male      139   \n..           ...            ...  ...     ...      ...   \n586          586     Chanirra79   23  Female      155   \n282          282        Aidai61   21    Male      155   \n371          371     Eusurdeu49   23    Male      155   \n63            63          Alo38   20    Male      125   \n418          418        Marim28   25  Female      125   \n\n                      Item Name  Price Age Group  \n554              Stormfury Mace   4.99     25-29  \n189              Stormfury Mace   4.99     25-29  \n110     Mercy, Katana of Dismay   4.94     25-29  \n246     Mercy, Katana of Dismay   4.94     25-29  \n493     Mercy, Katana of Dismay   4.94     15-19  \n..                          ...    ...       ...  \n586   War-Forged Gold Deflector   1.01     25-29  \n282   War-Forged Gold Deflector   1.01     25-29  \n371   War-Forged Gold Deflector   1.01     25-29  \n63   Whistling Mithril Warblade   1.00     20-24  \n418  Whistling Mithril Warblade   1.00     25-29  \n\n[780 rows x 8 columns]",
      "text/html": "<div>\n<style scoped>\n    .dataframe tbody tr th:only-of-type {\n        vertical-align: middle;\n    }\n\n    .dataframe tbody tr th {\n        vertical-align: top;\n    }\n\n    .dataframe thead th {\n        text-align: right;\n    }\n</style>\n<table border=\"1\" class=\"dataframe\">\n  <thead>\n    <tr style=\"text-align: right;\">\n      <th></th>\n      <th>Purchase ID</th>\n      <th>SN</th>\n      <th>Age</th>\n      <th>Gender</th>\n      <th>Item ID</th>\n      <th>Item Name</th>\n      <th>Price</th>\n      <th>Age Group</th>\n    </tr>\n  </thead>\n  <tbody>\n    <tr>\n      <td>554</td>\n      <td>554</td>\n      <td>Dyally87</td>\n      <td>22</td>\n      <td>Male</td>\n      <td>63</td>\n      <td>Stormfury Mace</td>\n      <td>4.99</td>\n      <td>25-29</td>\n    </tr>\n    <tr>\n      <td>189</td>\n      <td>189</td>\n      <td>Hiasri33</td>\n      <td>23</td>\n      <td>Male</td>\n      <td>63</td>\n      <td>Stormfury Mace</td>\n      <td>4.99</td>\n      <td>25-29</td>\n    </tr>\n    <tr>\n      <td>110</td>\n      <td>110</td>\n      <td>Ririp86</td>\n      <td>25</td>\n      <td>Male</td>\n      <td>139</td>\n      <td>Mercy, Katana of Dismay</td>\n      <td>4.94</td>\n      <td>25-29</td>\n    </tr>\n    <tr>\n      <td>246</td>\n      <td>246</td>\n      <td>Lirtilsa71</td>\n      <td>24</td>\n      <td>Male</td>\n      <td>139</td>\n      <td>Mercy, Katana of Dismay</td>\n      <td>4.94</td>\n      <td>25-29</td>\n    </tr>\n    <tr>\n      <td>493</td>\n      <td>493</td>\n      <td>Chanirrasta87</td>\n      <td>14</td>\n      <td>Male</td>\n      <td>139</td>\n      <td>Mercy, Katana of Dismay</td>\n      <td>4.94</td>\n      <td>15-19</td>\n    </tr>\n    <tr>\n      <td>...</td>\n      <td>...</td>\n      <td>...</td>\n      <td>...</td>\n      <td>...</td>\n      <td>...</td>\n      <td>...</td>\n      <td>...</td>\n      <td>...</td>\n    </tr>\n    <tr>\n      <td>586</td>\n      <td>586</td>\n      <td>Chanirra79</td>\n      <td>23</td>\n      <td>Female</td>\n      <td>155</td>\n      <td>War-Forged Gold Deflector</td>\n      <td>1.01</td>\n      <td>25-29</td>\n    </tr>\n    <tr>\n      <td>282</td>\n      <td>282</td>\n      <td>Aidai61</td>\n      <td>21</td>\n      <td>Male</td>\n      <td>155</td>\n      <td>War-Forged Gold Deflector</td>\n      <td>1.01</td>\n      <td>25-29</td>\n    </tr>\n    <tr>\n      <td>371</td>\n      <td>371</td>\n      <td>Eusurdeu49</td>\n      <td>23</td>\n      <td>Male</td>\n      <td>155</td>\n      <td>War-Forged Gold Deflector</td>\n      <td>1.01</td>\n      <td>25-29</td>\n    </tr>\n    <tr>\n      <td>63</td>\n      <td>63</td>\n      <td>Alo38</td>\n      <td>20</td>\n      <td>Male</td>\n      <td>125</td>\n      <td>Whistling Mithril Warblade</td>\n      <td>1.00</td>\n      <td>20-24</td>\n    </tr>\n    <tr>\n      <td>418</td>\n      <td>418</td>\n      <td>Marim28</td>\n      <td>25</td>\n      <td>Female</td>\n      <td>125</td>\n      <td>Whistling Mithril Warblade</td>\n      <td>1.00</td>\n      <td>25-29</td>\n    </tr>\n  </tbody>\n</table>\n<p>780 rows × 8 columns</p>\n</div>"
     },
     "metadata": {},
     "execution_count": 128
    }
   ],
   "source": [
    "df.sort_values(by=[\"Price\"], ascending=False)"
   ]
  },
  {
   "cell_type": "markdown",
   "metadata": {},
   "source": [
    "## Most Popular Items"
   ]
  },
  {
   "cell_type": "markdown",
   "metadata": {},
   "source": [
    "* Retrieve the Item ID, Item Name, and Item Price columns\n",
    "\n",
    "\n",
    "* Group by Item ID and Item Name. Perform calculations to obtain purchase count, item price, and total purchase value\n",
    "\n",
    "\n",
    "* Create a summary data frame to hold the results\n",
    "\n",
    "\n",
    "* Sort the purchase count column in descending order\n",
    "\n",
    "\n",
    "* Optional: give the displayed data cleaner formatting\n",
    "\n",
    "\n",
    "* Display a preview of the summary data frame\n",
    "\n"
   ]
  },
  {
   "cell_type": "code",
   "execution_count": 9,
   "metadata": {},
   "outputs": [
    {
     "data": {
      "text/html": [
       "<div>\n",
       "<style scoped>\n",
       "    .dataframe tbody tr th:only-of-type {\n",
       "        vertical-align: middle;\n",
       "    }\n",
       "\n",
       "    .dataframe tbody tr th {\n",
       "        vertical-align: top;\n",
       "    }\n",
       "\n",
       "    .dataframe thead th {\n",
       "        text-align: right;\n",
       "    }\n",
       "</style>\n",
       "<table border=\"1\" class=\"dataframe\">\n",
       "  <thead>\n",
       "    <tr style=\"text-align: right;\">\n",
       "      <th></th>\n",
       "      <th></th>\n",
       "      <th>Purchase Count</th>\n",
       "      <th>Item Price</th>\n",
       "      <th>Total Purchase Value</th>\n",
       "    </tr>\n",
       "    <tr>\n",
       "      <th>Item ID</th>\n",
       "      <th>Item Name</th>\n",
       "      <th></th>\n",
       "      <th></th>\n",
       "      <th></th>\n",
       "    </tr>\n",
       "  </thead>\n",
       "  <tbody>\n",
       "    <tr>\n",
       "      <th>92</th>\n",
       "      <th>Final Critic</th>\n",
       "      <td>13</td>\n",
       "      <td>$4.61</td>\n",
       "      <td>$59.99</td>\n",
       "    </tr>\n",
       "    <tr>\n",
       "      <th>178</th>\n",
       "      <th>Oathbreaker, Last Hope of the Breaking Storm</th>\n",
       "      <td>12</td>\n",
       "      <td>$4.23</td>\n",
       "      <td>$50.76</td>\n",
       "    </tr>\n",
       "    <tr>\n",
       "      <th>145</th>\n",
       "      <th>Fiery Glass Crusader</th>\n",
       "      <td>9</td>\n",
       "      <td>$4.58</td>\n",
       "      <td>$41.22</td>\n",
       "    </tr>\n",
       "    <tr>\n",
       "      <th>132</th>\n",
       "      <th>Persuasion</th>\n",
       "      <td>9</td>\n",
       "      <td>$3.22</td>\n",
       "      <td>$28.99</td>\n",
       "    </tr>\n",
       "    <tr>\n",
       "      <th>108</th>\n",
       "      <th>Extraction, Quickblade Of Trembling Hands</th>\n",
       "      <td>9</td>\n",
       "      <td>$3.53</td>\n",
       "      <td>$31.77</td>\n",
       "    </tr>\n",
       "  </tbody>\n",
       "</table>\n",
       "</div>"
      ],
      "text/plain": [
       "                                                     Purchase Count  \\\n",
       "Item ID Item Name                                                     \n",
       "92      Final Critic                                             13   \n",
       "178     Oathbreaker, Last Hope of the Breaking Storm             12   \n",
       "145     Fiery Glass Crusader                                      9   \n",
       "132     Persuasion                                                9   \n",
       "108     Extraction, Quickblade Of Trembling Hands                 9   \n",
       "\n",
       "                                                     Item Price  \\\n",
       "Item ID Item Name                                                 \n",
       "92      Final Critic                                      $4.61   \n",
       "178     Oathbreaker, Last Hope of the Breaking Storm      $4.23   \n",
       "145     Fiery Glass Crusader                              $4.58   \n",
       "132     Persuasion                                        $3.22   \n",
       "108     Extraction, Quickblade Of Trembling Hands         $3.53   \n",
       "\n",
       "                                                     Total Purchase Value  \n",
       "Item ID Item Name                                                          \n",
       "92      Final Critic                                               $59.99  \n",
       "178     Oathbreaker, Last Hope of the Breaking Storm               $50.76  \n",
       "145     Fiery Glass Crusader                                       $41.22  \n",
       "132     Persuasion                                                 $28.99  \n",
       "108     Extraction, Quickblade Of Trembling Hands                  $31.77  "
      ]
     },
     "execution_count": 9,
     "metadata": {},
     "output_type": "execute_result"
    }
   ],
   "source": []
  },
  {
   "cell_type": "markdown",
   "metadata": {},
   "source": [
    "## Most Profitable Items"
   ]
  },
  {
   "cell_type": "markdown",
   "metadata": {},
   "source": [
    "* Sort the above table by total purchase value in descending order\n",
    "\n",
    "\n",
    "* Optional: give the displayed data cleaner formatting\n",
    "\n",
    "\n",
    "* Display a preview of the data frame\n",
    "\n"
   ]
  },
  {
   "cell_type": "code",
   "execution_count": 10,
   "metadata": {
    "scrolled": true
   },
   "outputs": [
    {
     "data": {
      "text/html": [
       "<div>\n",
       "<style scoped>\n",
       "    .dataframe tbody tr th:only-of-type {\n",
       "        vertical-align: middle;\n",
       "    }\n",
       "\n",
       "    .dataframe tbody tr th {\n",
       "        vertical-align: top;\n",
       "    }\n",
       "\n",
       "    .dataframe thead th {\n",
       "        text-align: right;\n",
       "    }\n",
       "</style>\n",
       "<table border=\"1\" class=\"dataframe\">\n",
       "  <thead>\n",
       "    <tr style=\"text-align: right;\">\n",
       "      <th></th>\n",
       "      <th></th>\n",
       "      <th>Purchase Count</th>\n",
       "      <th>Item Price</th>\n",
       "      <th>Total Purchase Value</th>\n",
       "    </tr>\n",
       "    <tr>\n",
       "      <th>Item ID</th>\n",
       "      <th>Item Name</th>\n",
       "      <th></th>\n",
       "      <th></th>\n",
       "      <th></th>\n",
       "    </tr>\n",
       "  </thead>\n",
       "  <tbody>\n",
       "    <tr>\n",
       "      <th>92</th>\n",
       "      <th>Final Critic</th>\n",
       "      <td>13</td>\n",
       "      <td>$4.61</td>\n",
       "      <td>$59.99</td>\n",
       "    </tr>\n",
       "    <tr>\n",
       "      <th>178</th>\n",
       "      <th>Oathbreaker, Last Hope of the Breaking Storm</th>\n",
       "      <td>12</td>\n",
       "      <td>$4.23</td>\n",
       "      <td>$50.76</td>\n",
       "    </tr>\n",
       "    <tr>\n",
       "      <th>82</th>\n",
       "      <th>Nirvana</th>\n",
       "      <td>9</td>\n",
       "      <td>$4.90</td>\n",
       "      <td>$44.10</td>\n",
       "    </tr>\n",
       "    <tr>\n",
       "      <th>145</th>\n",
       "      <th>Fiery Glass Crusader</th>\n",
       "      <td>9</td>\n",
       "      <td>$4.58</td>\n",
       "      <td>$41.22</td>\n",
       "    </tr>\n",
       "    <tr>\n",
       "      <th>103</th>\n",
       "      <th>Singed Scalpel</th>\n",
       "      <td>8</td>\n",
       "      <td>$4.35</td>\n",
       "      <td>$34.80</td>\n",
       "    </tr>\n",
       "  </tbody>\n",
       "</table>\n",
       "</div>"
      ],
      "text/plain": [
       "                                                     Purchase Count  \\\n",
       "Item ID Item Name                                                     \n",
       "92      Final Critic                                             13   \n",
       "178     Oathbreaker, Last Hope of the Breaking Storm             12   \n",
       "82      Nirvana                                                   9   \n",
       "145     Fiery Glass Crusader                                      9   \n",
       "103     Singed Scalpel                                            8   \n",
       "\n",
       "                                                     Item Price  \\\n",
       "Item ID Item Name                                                 \n",
       "92      Final Critic                                      $4.61   \n",
       "178     Oathbreaker, Last Hope of the Breaking Storm      $4.23   \n",
       "82      Nirvana                                           $4.90   \n",
       "145     Fiery Glass Crusader                              $4.58   \n",
       "103     Singed Scalpel                                    $4.35   \n",
       "\n",
       "                                                     Total Purchase Value  \n",
       "Item ID Item Name                                                          \n",
       "92      Final Critic                                               $59.99  \n",
       "178     Oathbreaker, Last Hope of the Breaking Storm               $50.76  \n",
       "82      Nirvana                                                    $44.10  \n",
       "145     Fiery Glass Crusader                                       $41.22  \n",
       "103     Singed Scalpel                                             $34.80  "
      ]
     },
     "execution_count": 10,
     "metadata": {},
     "output_type": "execute_result"
    }
   ],
   "source": []
  }
 ],
 "metadata": {
  "anaconda-cloud": {},
  "kernel_info": {
   "name": "python3"
  },
  "kernelspec": {
   "display_name": "Python 3",
   "language": "python",
   "name": "python3"
  },
  "language_info": {
   "codemirror_mode": {
    "name": "ipython",
    "version": 3
   },
   "file_extension": ".py",
   "mimetype": "text/x-python",
   "name": "python",
   "nbconvert_exporter": "python",
   "pygments_lexer": "ipython3",
   "version": "3.7.4-final"
  },
  "latex_envs": {
   "LaTeX_envs_menu_present": true,
   "autoclose": false,
   "autocomplete": true,
   "bibliofile": "biblio.bib",
   "cite_by": "apalike",
   "current_citInitial": 1,
   "eqLabelWithNumbers": true,
   "eqNumInitial": 1,
   "hotkeys": {
    "equation": "Ctrl-E",
    "itemize": "Ctrl-I"
   },
   "labels_anchors": false,
   "latex_user_defs": false,
   "report_style_numbering": false,
   "user_envs_cfg": false
  },
  "nteract": {
   "version": "0.2.0"
  }
 },
 "nbformat": 4,
 "nbformat_minor": 2
}